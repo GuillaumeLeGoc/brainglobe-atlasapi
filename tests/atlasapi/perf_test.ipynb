{
 "cells": [
  {
   "cell_type": "code",
   "execution_count": 1,
   "metadata": {},
   "outputs": [],
   "source": [
    "import numpy as np\n",
    "\n",
    "from brainglobe_atlasapi import BrainGlobeAtlas"
   ]
  },
  {
   "cell_type": "code",
   "execution_count": 2,
   "metadata": {},
   "outputs": [],
   "source": [
    "atlas = BrainGlobeAtlas(\"mpin_zfish_1um\")"
   ]
  },
  {
   "cell_type": "code",
   "execution_count": 3,
   "metadata": {},
   "outputs": [],
   "source": [
    "ncoords = 1e6\n",
    "kwargs = dict(microns=False, as_acronym=True)"
   ]
  },
  {
   "cell_type": "code",
   "execution_count": 4,
   "metadata": {},
   "outputs": [],
   "source": [
    "rng = np.random.default_rng(11081994)"
   ]
  },
  {
   "cell_type": "code",
   "execution_count": 5,
   "metadata": {},
   "outputs": [],
   "source": [
    "def get_numbers(rng, high, n=1e6):\n",
    "    return rng.integers(0, high=int(high), size=int(n))"
   ]
  },
  {
   "cell_type": "code",
   "execution_count": 6,
   "metadata": {},
   "outputs": [],
   "source": [
    "if kwargs[\"microns\"]:\n",
    "    coords_list = np.array(\n",
    "        (\n",
    "            get_numbers(rng, atlas.shape_um[0], n=ncoords),\n",
    "            get_numbers(rng, atlas.shape_um[1], n=ncoords),\n",
    "            get_numbers(rng, atlas.shape_um[2], n=ncoords),\n",
    "        )\n",
    "    ).T.tolist()\n",
    "else:\n",
    "    coords_list = np.array(\n",
    "        (\n",
    "            get_numbers(rng, atlas.shape[0], n=ncoords),\n",
    "            get_numbers(rng, atlas.shape[1], n=ncoords),\n",
    "            get_numbers(rng, atlas.shape[2], n=ncoords),\n",
    "        )\n",
    "    ).T.tolist()"
   ]
  },
  {
   "cell_type": "code",
   "execution_count": 7,
   "metadata": {},
   "outputs": [],
   "source": [
    "acr_list_slow = [atlas.structure_from_coords(c, **kwargs) for c in coords_list]"
   ]
  },
  {
   "cell_type": "code",
   "execution_count": 8,
   "metadata": {},
   "outputs": [],
   "source": [
    "acr_list_fast = atlas.structures_from_coords_list(coords_list, **kwargs)"
   ]
  },
  {
   "cell_type": "code",
   "execution_count": 9,
   "metadata": {},
   "outputs": [
    {
     "ename": "AssertionError",
     "evalue": "",
     "output_type": "error",
     "traceback": [
      "\u001b[1;31m---------------------------------------------------------------------------\u001b[0m",
      "\u001b[1;31mAssertionError\u001b[0m                            Traceback (most recent call last)",
      "Cell \u001b[1;32mIn[9], line 1\u001b[0m\n\u001b[1;32m----> 1\u001b[0m \u001b[38;5;28;01massert\u001b[39;00m acr_list_slow \u001b[38;5;241m==\u001b[39m acr_list_fast\n",
      "\u001b[1;31mAssertionError\u001b[0m: "
     ]
    }
   ],
   "source": [
    "assert acr_list_slow == acr_list_fast"
   ]
  },
  {
   "cell_type": "code",
   "execution_count": null,
   "metadata": {},
   "outputs": [],
   "source": [
    "%%timeit\n",
    "acr_list_slow = [\n",
    "    atlas.structure_from_coords(c, microns=False, as_acronym=True)\n",
    "    for c in coords_list\n",
    "]"
   ]
  },
  {
   "cell_type": "code",
   "execution_count": null,
   "metadata": {},
   "outputs": [],
   "source": [
    "%%timeit\n",
    "acr_list_fast = atlas.structures_from_coords_list(\n",
    "    coords_list, microns=False, as_acronym=False\n",
    ")"
   ]
  },
  {
   "cell_type": "code",
   "execution_count": null,
   "metadata": {},
   "outputs": [],
   "source": []
  }
 ],
 "metadata": {
  "kernelspec": {
   "display_name": "bg-dev",
   "language": "python",
   "name": "python3"
  },
  "language_info": {
   "codemirror_mode": {
    "name": "ipython",
    "version": 3
   },
   "file_extension": ".py",
   "mimetype": "text/x-python",
   "name": "python",
   "nbconvert_exporter": "python",
   "pygments_lexer": "ipython3",
   "version": "3.12.8"
  }
 },
 "nbformat": 4,
 "nbformat_minor": 2
}
